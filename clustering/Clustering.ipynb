{
 "cells": [
  {
   "cell_type": "markdown",
   "metadata": {
    "slideshow": {
     "slide_type": "slide"
    }
   },
   "source": [
    "<h1>Unsupervised Learning</h1>\n",
    "<ul>\n",
    "    <li>K-means</li>\n",
    "    <li>Hierarchical Clustering</li>\n",
    "    <li>GMM</li>\n",
    "    <li>DBScan</li>\n",
    "    \n",
    "</ul>"
   ]
  },
  {
   "cell_type": "markdown",
   "metadata": {
    "collapsed": true,
    "slideshow": {
     "slide_type": "slide"
    }
   },
   "source": [
    "<h1>Dataset</h1>\n",
    "<ul>\n",
    "    <li>Wine Dataset</li>\n",
    "</ul>"
   ]
  },
  {
   "cell_type": "code",
   "execution_count": 1,
   "metadata": {
    "slideshow": {
     "slide_type": "subslide"
    }
   },
   "outputs": [],
   "source": [
    "from sklearn.datasets import load_wine\n",
    "wine_data = load_wine()"
   ]
  },
  {
   "cell_type": "markdown",
   "metadata": {
    "collapsed": true,
    "slideshow": {
     "slide_type": "slide"
    }
   },
   "source": [
    "<h2>Wine Dataset</h2>"
   ]
  },
  {
   "cell_type": "code",
   "execution_count": 2,
   "metadata": {
    "scrolled": true,
    "slideshow": {
     "slide_type": "subslide"
    }
   },
   "outputs": [
    {
     "name": "stdout",
     "output_type": "stream",
     "text": [
      ".. _wine_dataset:\n",
      "\n",
      "Wine recognition dataset\n",
      "------------------------\n",
      "\n",
      "**Data Set Characteristics:**\n",
      "\n",
      "    :Number of Instances: 178 (50 in each of three classes)\n",
      "    :Number of Attributes: 13 numeric, predictive attributes and the class\n",
      "    :Attribute Information:\n",
      " \t\t- Alcohol\n",
      " \t\t- Malic acid\n",
      " \t\t- Ash\n",
      "\t\t- Alcalinity of ash  \n",
      " \t\t- Magnesium\n",
      "\t\t- Total phenols\n",
      " \t\t- Flavanoids\n",
      " \t\t- Nonflavanoid phenols\n",
      " \t\t- Proanthocyanins\n",
      "\t\t- Color intensity\n",
      " \t\t- Hue\n",
      " \t\t- OD280/OD315 of diluted wines\n",
      " \t\t- Proline\n",
      "\n",
      "    - class:\n",
      "            - class_0\n",
      "            - class_1\n",
      "            - class_2\n",
      "\t\t\n",
      "    :Summary Statistics:\n",
      "    \n",
      "    ============================= ==== ===== ======= =====\n",
      "                                   Min   Max   Mean     SD\n",
      "    ============================= ==== ===== ======= =====\n",
      "    Alcohol:                      11.0  14.8    13.0   0.8\n",
      "    Malic Acid:                   0.74  5.80    2.34  1.12\n",
      "    Ash:                          1.36  3.23    2.36  0.27\n",
      "    Alcalinity of Ash:            10.6  30.0    19.5   3.3\n",
      "    Magnesium:                    70.0 162.0    99.7  14.3\n",
      "    Total Phenols:                0.98  3.88    2.29  0.63\n",
      "    Flavanoids:                   0.34  5.08    2.03  1.00\n",
      "    Nonflavanoid Phenols:         0.13  0.66    0.36  0.12\n",
      "    Proanthocyanins:              0.41  3.58    1.59  0.57\n",
      "    Colour Intensity:              1.3  13.0     5.1   2.3\n",
      "    Hue:                          0.48  1.71    0.96  0.23\n",
      "    OD280/OD315 of diluted wines: 1.27  4.00    2.61  0.71\n",
      "    Proline:                       278  1680     746   315\n",
      "    ============================= ==== ===== ======= =====\n",
      "\n",
      "    :Missing Attribute Values: None\n",
      "    :Class Distribution: class_0 (59), class_1 (71), class_2 (48)\n",
      "    :Creator: R.A. Fisher\n",
      "    :Donor: Michael Marshall (MARSHALL%PLU@io.arc.nasa.gov)\n",
      "    :Date: July, 1988\n",
      "\n",
      "This is a copy of UCI ML Wine recognition datasets.\n",
      "https://archive.ics.uci.edu/ml/machine-learning-databases/wine/wine.data\n",
      "\n",
      "The data is the results of a chemical analysis of wines grown in the same\n",
      "region in Italy by three different cultivators. There are thirteen different\n",
      "measurements taken for different constituents found in the three types of\n",
      "wine.\n",
      "\n",
      "Original Owners: \n",
      "\n",
      "Forina, M. et al, PARVUS - \n",
      "An Extendible Package for Data Exploration, Classification and Correlation. \n",
      "Institute of Pharmaceutical and Food Analysis and Technologies,\n",
      "Via Brigata Salerno, 16147 Genoa, Italy.\n",
      "\n",
      "Citation:\n",
      "\n",
      "Lichman, M. (2013). UCI Machine Learning Repository\n",
      "[http://archive.ics.uci.edu/ml]. Irvine, CA: University of California,\n",
      "School of Information and Computer Science. \n",
      "\n",
      ".. topic:: References\n",
      "\n",
      "  (1) S. Aeberhard, D. Coomans and O. de Vel, \n",
      "  Comparison of Classifiers in High Dimensional Settings, \n",
      "  Tech. Rep. no. 92-02, (1992), Dept. of Computer Science and Dept. of  \n",
      "  Mathematics and Statistics, James Cook University of North Queensland. \n",
      "  (Also submitted to Technometrics). \n",
      "\n",
      "  The data was used with many others for comparing various \n",
      "  classifiers. The classes are separable, though only RDA \n",
      "  has achieved 100% correct classification. \n",
      "  (RDA : 100%, QDA 99.4%, LDA 98.9%, 1NN 96.1% (z-transformed data)) \n",
      "  (All results using the leave-one-out technique) \n",
      "\n",
      "  (2) S. Aeberhard, D. Coomans and O. de Vel, \n",
      "  \"THE CLASSIFICATION PERFORMANCE OF RDA\" \n",
      "  Tech. Rep. no. 92-01, (1992), Dept. of Computer Science and Dept. of \n",
      "  Mathematics and Statistics, James Cook University of North Queensland. \n",
      "  (Also submitted to Journal of Chemometrics).\n",
      "\n"
     ]
    }
   ],
   "source": [
    "print (wine_data.DESCR)"
   ]
  },
  {
   "cell_type": "code",
   "execution_count": 3,
   "metadata": {
    "slideshow": {
     "slide_type": "subslide"
    }
   },
   "outputs": [
    {
     "name": "stdout",
     "output_type": "stream",
     "text": [
      "[[1.423e+01 1.710e+00 2.430e+00 ... 1.040e+00 3.920e+00 1.065e+03]\n",
      " [1.320e+01 1.780e+00 2.140e+00 ... 1.050e+00 3.400e+00 1.050e+03]\n",
      " [1.316e+01 2.360e+00 2.670e+00 ... 1.030e+00 3.170e+00 1.185e+03]\n",
      " ...\n",
      " [1.327e+01 4.280e+00 2.260e+00 ... 5.900e-01 1.560e+00 8.350e+02]\n",
      " [1.317e+01 2.590e+00 2.370e+00 ... 6.000e-01 1.620e+00 8.400e+02]\n",
      " [1.413e+01 4.100e+00 2.740e+00 ... 6.100e-01 1.600e+00 5.600e+02]]\n"
     ]
    }
   ],
   "source": [
    "print (wine_data.data)"
   ]
  },
  {
   "cell_type": "markdown",
   "metadata": {
    "slideshow": {
     "slide_type": "slide"
    }
   },
   "source": [
    "<h2>Types of Input Data</h2>\n",
    "<ul>\n",
    "    <li>One Mode Matrix</li>\n",
    "    <li>Two Mode Matrix</li>\n",
    "</ul>"
   ]
  },
  {
   "cell_type": "markdown",
   "metadata": {
    "slideshow": {
     "slide_type": "subslide"
    }
   },
   "source": [
    "<h2>Dissimilarity Matrix ( One mode matrix)</h2>\n",
    "<ul>\n",
    "<li>object by object</li>\n",
    "<li> n * n matrix</li>    \n",
    "</ul>"
   ]
  },
  {
   "cell_type": "markdown",
   "metadata": {
    "slideshow": {
     "slide_type": "subslide"
    }
   },
   "source": [
    "How do we transform two mode data into one mode data<br>"
   ]
  },
  {
   "cell_type": "markdown",
   "metadata": {
    "slideshow": {
     "slide_type": "fragment"
    }
   },
   "source": [
    "<p>L1 (manhattan) $|x_{1}-x_{2}|+|y_{1}-y_{2}|.$</p>"
   ]
  },
  {
   "cell_type": "markdown",
   "metadata": {
    "slideshow": {
     "slide_type": "fragment"
    }
   },
   "source": [
    "<p>L2 (euclidean) $\\sqrt{(x_{1}-x_{2})^{2}+(y_{1}-y_{2})^{2}}.$</p>"
   ]
  },
  {
   "cell_type": "markdown",
   "metadata": {
    "slideshow": {
     "slide_type": "subslide"
    }
   },
   "source": [
    "<p>cosine $\\frac {x \\cdot y}{||x|| \\cdot ||y||}$</p>"
   ]
  },
  {
   "cell_type": "markdown",
   "metadata": {
    "slideshow": {
     "slide_type": "fragment"
    }
   },
   "source": [
    "<p style=\"color:red\">we can use sklearn.metrics.pairwise</p>"
   ]
  },
  {
   "cell_type": "code",
   "execution_count": 4,
   "metadata": {
    "slideshow": {
     "slide_type": "subslide"
    }
   },
   "outputs": [],
   "source": [
    "from sklearn.metrics import pairwise\n",
    "#manhattan\n",
    "one_mode_L1_data = pairwise.manhattan_distances(load_wine().data,load_wine().data)\n",
    "#euclidean\n",
    "one_mode_L2_data = pairwise.euclidean_distances(load_wine().data,load_wine().data)\n",
    "\n",
    "\n"
   ]
  },
  {
   "cell_type": "code",
   "execution_count": 5,
   "metadata": {
    "scrolled": true,
    "slideshow": {
     "slide_type": "subslide"
    }
   },
   "outputs": [
    {
     "name": "stdout",
     "output_type": "stream",
     "text": [
      "(178, 178)\n",
      "[  0.        51.06     152.48     435.09     349.97     403.87\n",
      " 259.26     241.56      54.48      53.04     471.74     252.49\n",
      " 296.08     129.02     515.66     266.56     229.28      85.71\n",
      " 641.3      235.56     287.61     329.54      60.71      89.69\n",
      " 260.06     253.69     168.32     260.71     177.45      64.34\n",
      " 255.79     478.21     104.59     182.82      55.72     179.39\n",
      " 207.33      77.48      80.85     312.36     283.2       77.42\n",
      "  59.67     417.98     204.82      39.34      29.47     109.1\n",
      "  34.75     221.24     128.46     236.5      147.38     327.33\n",
      "  17.66      73.86     107.04     235.15     244.87     603.68\n",
      " 423.84     652.4      478.99     694.78     747.26     424.89\n",
      " 616.64     615.4      343.78     382.38     235.544    710.39\n",
      " 648.89     111.9      218.98     678.34     722.51     594.95\n",
      " 334.42     644.16     841.19     401.35     503.41     608.91\n",
      " 589.01     654.42     624.9      562.68     444.38     515.42\n",
      " 644.86     672.2      632.51     825.38     759.98     175.15\n",
      " 465.07     687.54     453.81     709.64     396.05     555.77\n",
      " 669.91     705.71     447.73     803.54     613.67     636.18\n",
      " 800.12     429.79     538.64     794.14     497.42     685.85\n",
      " 738.43     716.74     626.72     755.12     753.       556.85\n",
      " 482.91     628.42     747.47     742.53     744.59     742.61\n",
      " 765.93     656.62     779.48     550.96     453.21     572.94\n",
      " 552.54     503.39     468.8      417.9      403.98     604.21\n",
      " 538.62     519.53     512.6      336.73     594.41     566.09\n",
      " 242.02     277.88     715.34     500.91     468.34     549.4\n",
      " 589.75     621.11     670.14     436.39     465.53     394.75\n",
      " 640.03     239.01     456.01     502.02     602.38     419.2\n",
      " 532.79     425.12     506.77     603.12     408.15     438.37\n",
      " 357.45     472.89     601.27     655.019999 457.7      376.06\n",
      " 359.18     257.14     249.41     558.28    ]\n",
      "[  0.          31.26501239 122.83115403 415.24539985 330.17450008\n",
      " 385.29595988 227.12947365 230.09159915  36.11696554  35.27497697\n",
      " 445.55102603 217.37853919 257.81932782  92.41866695 482.66694273\n",
      " 245.47425934 215.16396492  66.27069714 615.30369055 220.28274694\n",
      " 285.00237596 296.08653769  39.76334116  59.45622844 222.22987738\n",
      " 235.22246598 134.38352354 222.48120977 151.38254952  43.1612998\n",
      " 221.64284672 450.50692703  78.49626552 170.12507517  34.71830353\n",
      " 147.57804274 185.79160934  49.53119219  53.60958403 305.02052718\n",
      " 270.18798012  47.83493911  39.71841512 385.76405328 181.11953677\n",
      "  22.34074753  25.09466278  84.1259104   24.76023223 195.96157532\n",
      "  92.00919519 202.71217921 126.04745614 310.23939321  10.3928052\n",
      "  56.31841617  95.43410501 206.52897448 220.82985917 546.44724631\n",
      " 385.90670945 615.60530017 436.2689958  646.25355396 710.3937656\n",
      " 388.10316889 565.13127165 557.18066657 315.49033519 347.85622317\n",
      " 196.58775815 656.35404006 594.41482308  82.21200764 180.99685246\n",
      " 637.72061547 674.25397744 565.22546218 315.15251673 602.62113969\n",
      " 788.08596073 353.41073144 437.85672166 551.65756761 546.0171544\n",
      " 615.65396157 571.26319486 504.63699428 387.46585733 443.77569492\n",
      " 586.83186212 616.41165644 571.97266744 775.99630682 720.5982967\n",
      " 132.80196723 440.12365456 638.39392134 406.89325615 660.1715674\n",
      " 356.28957591 504.53798618 627.7050418  651.32189346 395.28458242\n",
      " 750.95051222 557.0080661  578.65347783 753.83074546 386.45811196\n",
      " 503.43543797 741.06009932 458.66750855 632.24295528 681.404159\n",
      " 659.38587003 571.5168008  720.29697972 694.6068131  502.63634538\n",
      " 441.12913223 600.20240453 700.54941746 686.27203782 686.51301015\n",
      " 688.31455883 714.20765545 600.17440765 724.11827791 487.34043809\n",
      " 435.05621832 535.5286997  505.91933547 465.53272678 417.14472836\n",
      " 371.507043   347.17786565 550.98164697 486.60039355 475.80173991\n",
      " 466.08202583 287.58183131 545.89959342 516.22929411 210.62068512\n",
      " 236.43336567 651.73644673 441.97704115 416.54339198 515.25629273\n",
      " 565.09752335 585.26284206 640.18238745 391.13817469 425.72501136\n",
      " 341.80278802 586.27083733 187.82095969 406.22157882 446.72507205\n",
      " 546.44244015 385.56581747 495.5036574  390.60007629 451.59861614\n",
      " 546.45862057 370.47653866 382.06856126 315.92756654 435.39221089\n",
      " 555.89515459 596.45510493 406.65772291 326.66004929 316.11052687\n",
      " 230.24002302 225.21518399 506.05936766]\n"
     ]
    }
   ],
   "source": [
    "print (one_mode_L1_data.shape)\n",
    "print (one_mode_L1_data[0])\n",
    "print (one_mode_L2_data[0])"
   ]
  },
  {
   "cell_type": "markdown",
   "metadata": {
    "slideshow": {
     "slide_type": "subslide"
    }
   },
   "source": [
    "<h2>Data Matrix (Two mode Matrix)</h2>\n",
    "    <li>n objects with p attributes</li>\n",
    "    <li>n * p matrix</li>\n"
   ]
  },
  {
   "cell_type": "code",
   "execution_count": 6,
   "metadata": {
    "slideshow": {
     "slide_type": "-"
    }
   },
   "outputs": [
    {
     "name": "stdout",
     "output_type": "stream",
     "text": [
      "[[1.423e+01 1.710e+00 2.430e+00 ... 1.040e+00 3.920e+00 1.065e+03]\n",
      " [1.320e+01 1.780e+00 2.140e+00 ... 1.050e+00 3.400e+00 1.050e+03]\n",
      " [1.316e+01 2.360e+00 2.670e+00 ... 1.030e+00 3.170e+00 1.185e+03]\n",
      " ...\n",
      " [1.327e+01 4.280e+00 2.260e+00 ... 5.900e-01 1.560e+00 8.350e+02]\n",
      " [1.317e+01 2.590e+00 2.370e+00 ... 6.000e-01 1.620e+00 8.400e+02]\n",
      " [1.413e+01 4.100e+00 2.740e+00 ... 6.100e-01 1.600e+00 5.600e+02]]\n",
      "(178, 13)\n"
     ]
    }
   ],
   "source": [
    "two_mode_data = load_wine().data\n",
    "print (two_mode_data)\n",
    "print (two_mode_data.shape)"
   ]
  },
  {
   "cell_type": "markdown",
   "metadata": {
    "slideshow": {
     "slide_type": "slide"
    }
   },
   "source": [
    "<h2>K-Means</h2>\n",
    "<ul>\n",
    "    <li>sklearn.cluster.Kmeans</li>\n",
    "    <li>input\n",
    "    <ul>\n",
    "        <li>k clusters</li>\n",
    "        <li>data (n object with p attribute)</li>\n",
    "    </ul>\n",
    "</ul>"
   ]
  },
  {
   "cell_type": "markdown",
   "metadata": {
    "slideshow": {
     "slide_type": "subslide"
    }
   },
   "source": [
    "n_clusters<br>\n",
    "&nbsp;&nbsp;&nbsp;the number of clusters to form as well as the number of centroids to generate<br>\n",
    "random_state"
   ]
  },
  {
   "cell_type": "code",
   "execution_count": 7,
   "metadata": {
    "scrolled": true,
    "slideshow": {
     "slide_type": "subslide"
    }
   },
   "outputs": [
    {
     "name": "stdout",
     "output_type": "stream",
     "text": [
      "[0 0 0 0 0 0 0 0 0 0 0 0 0 0 0 0 0 0 0 0 0 0 0 0 0 0 0 0 0 0 0 0 0 0 0 0 0\n",
      " 0 0 0 0 0 0 0 0 0 0 0 0 0 0 0 0 0 0 0 0 0 0 2 1 1 2 2 2 2 2 2 1 2 1 2 2 0\n",
      " 2 2 2 2 2 2 2 2 2 1 2 2 2 2 2 2 2 2 1 2 2 0 2 2 2 2 2 2 2 2 2 2 2 2 2 2 2\n",
      " 2 2 2 2 2 2 2 1 2 2 2 2 2 2 2 2 2 2 2 1 1 1 1 1 1 1 1 1 1 1 1 1 1 1 1 1 1\n",
      " 1 1 1 1 1 1 1 1 1 1 1 1 1 1 1 1 1 1 1 1 1 1 1 1 1 1 1 1 1 1]\n"
     ]
    }
   ],
   "source": [
    "from sklearn.cluster import KMeans\n",
    "from sklearn.preprocessing import MinMaxScaler\n",
    "kmeans_data = MinMaxScaler().fit_transform(two_mode_data)\n",
    "kmeans = KMeans(n_clusters=3, random_state=0).fit(kmeans_data)\n",
    "print (kmeans.labels_)"
   ]
  },
  {
   "cell_type": "code",
   "execution_count": 8,
   "metadata": {
    "slideshow": {
     "slide_type": "subslide"
    }
   },
   "outputs": [
    {
     "name": "stdout",
     "output_type": "stream",
     "text": [
      "[[-9.41307545e+00 -5.36982441e+00]\n",
      " [-5.27640247e+00 -5.49918079e+00]\n",
      " [-7.33208895e+00 -8.36583614e+00]\n",
      " [-9.86803055e+00 -8.85849667e+00]\n",
      " [-2.71293235e+00 -8.07800102e+00]\n",
      " [-8.74751949e+00 -9.56701660e+00]\n",
      " [-6.87087154e+00 -6.61375618e+00]\n",
      " [-6.07435513e+00 -6.53456926e+00]\n",
      " [-7.68953991e+00 -7.03216743e+00]\n",
      " [-8.51977444e+00 -6.58942795e+00]\n",
      " [-7.97146225e+00 -9.49195194e+00]\n",
      " [-5.53940439e+00 -6.96382809e+00]\n",
      " [-6.14226818e+00 -7.58807802e+00]\n",
      " [-9.94132137e+00 -1.05815887e+01]\n",
      " [-9.56696224e+00 -1.01469898e+01]\n",
      " [-5.87846708e+00 -9.06414223e+00]\n",
      " [-6.34167147e+00 -9.82225227e+00]\n",
      " [-5.71603203e+00 -9.83495331e+00]\n",
      " [-8.52365685e+00 -1.03194447e+01]\n",
      " [-7.94164467e+00 -3.64376426e+00]\n",
      " [-9.13688850e+00 -5.25335646e+00]\n",
      " [-6.13593769e+00 -2.62695193e+00]\n",
      " [-6.45533419e+00 -5.23342800e+00]\n",
      " [-5.27841616e+00 -4.71946764e+00]\n",
      " [-5.62069654e+00 -4.52530670e+00]\n",
      " [-2.25526690e+00 -8.29965019e+00]\n",
      " [-5.51274776e+00 -7.56508780e+00]\n",
      " [-4.55233908e+00 -6.10934210e+00]\n",
      " [-3.93887067e+00 -8.34850216e+00]\n",
      " [-6.96671963e+00 -5.86230040e+00]\n",
      " [-6.87722206e+00 -9.54773331e+00]\n",
      " [-7.72863102e+00 -9.33568954e+00]\n",
      " [-4.41442728e+00 -7.77206182e+00]\n",
      " [-4.72162676e+00 -9.87759686e+00]\n",
      " [-4.51377773e+00 -7.14347553e+00]\n",
      " [-6.30863476e+00 -4.99403048e+00]\n",
      " [-3.80580735e+00 -7.34558010e+00]\n",
      " [-4.16054487e+00 -6.64207315e+00]\n",
      " [-4.08926249e+00 -5.78821754e+00]\n",
      " [-8.50391388e+00 -3.38012290e+00]\n",
      " [-8.63604450e+00 -5.34844637e+00]\n",
      " [-6.75343657e+00 -2.38801765e+00]\n",
      " [-9.25625801e+00 -6.79821539e+00]\n",
      " [-6.52473116e+00 -2.29881334e+00]\n",
      " [-7.79705143e+00 -5.16914463e+00]\n",
      " [-7.52279425e+00 -2.78234935e+00]\n",
      " [-8.76852989e+00 -3.87256026e+00]\n",
      " [-8.70585155e+00 -6.38914204e+00]\n",
      " [-7.10302496e+00 -8.49740982e+00]\n",
      " [-8.43016815e+00 -9.06518078e+00]\n",
      " [-1.05828257e+01 -7.19241333e+00]\n",
      " [-6.90795803e+00 -7.59987736e+00]\n",
      " [-9.72994328e+00 -8.45439529e+00]\n",
      " [-5.77095270e+00 -9.29528904e+00]\n",
      " [-7.87833500e+00 -5.91458607e+00]\n",
      " [-7.96642733e+00 -8.02116680e+00]\n",
      " [-8.77546501e+00 -5.98452902e+00]\n",
      " [-5.93373728e+00 -8.50044250e+00]\n",
      " [-9.10004997e+00 -8.17898464e+00]\n",
      " [ 6.31451070e-01  5.02833176e+00]\n",
      " [ 6.08043766e+00  7.30773449e+00]\n",
      " [ 6.34013939e+00  7.88304424e+00]\n",
      " [-3.46427739e-01  3.44623375e+00]\n",
      " [-1.50636041e+00 -1.64904225e+00]\n",
      " [ 3.63654947e+00  4.18736553e+00]\n",
      " [-4.01687413e-01 -3.62713385e+00]\n",
      " [-2.30285311e+00 -1.31506395e+00]\n",
      " [ 3.71558517e-01  1.83711886e+00]\n",
      " [ 6.11559916e+00  7.36414289e+00]\n",
      " [ 1.02929223e+00 -5.87291718e+00]\n",
      " [ 4.63876724e+00  6.42963123e+00]\n",
      " [-3.49312878e+00 -3.32379103e+00]\n",
      " [ 5.12522399e-01  3.16575336e+00]\n",
      " [-2.54146361e+00 -9.53254032e+00]\n",
      " [-8.11138511e-01 -2.17995143e+00]\n",
      " [ 2.17027426e+00  4.71118259e+00]\n",
      " [-4.74300444e-01  2.88068628e+00]\n",
      " [ 3.68479085e+00  5.26591444e+00]\n",
      " [ 9.67408359e-01 -5.90562391e+00]\n",
      " [-2.77496648e+00  8.01343143e-01]\n",
      " [ 7.17439875e-03  1.05470729e+00]\n",
      " [-3.32780927e-01  2.99516708e-01]\n",
      " [ 3.92326999e+00  2.65485620e+00]\n",
      " [ 1.15971413e+01  8.54663467e+00]\n",
      " [ 9.95895386e-01 -2.00925040e+00]\n",
      " [ 2.80874252e-01  1.08512938e+00]\n",
      " [ 3.90222502e+00  3.58028173e+00]\n",
      " [ 4.18615103e+00  2.30061197e+00]\n",
      " [ 4.70234823e+00  2.94212484e+00]\n",
      " [ 3.62286329e+00  1.85586488e+00]\n",
      " [ 4.84778070e+00  4.18372250e+00]\n",
      " [ 4.93746567e+00  3.67260599e+00]\n",
      " [ 5.40443945e+00  4.66189623e+00]\n",
      " [ 4.92999941e-01 -2.83488750e-01]\n",
      " [-2.51031995e-01 -9.50167894e-01]\n",
      " [ 9.13293839e-01 -6.01823378e+00]\n",
      " [ 5.45703697e+00  1.46827221e+01]\n",
      " [-3.71056795e-01  6.25288069e-01]\n",
      " [-1.66382158e+00 -1.79814827e+00]\n",
      " [-2.27641678e+00  5.04285932e-01]\n",
      " [-5.67714453e-01  1.49116445e+00]\n",
      " [ 9.55248296e-01  2.81557274e+00]\n",
      " [ 2.00103831e+00 -4.41965222e-01]\n",
      " [ 2.35037589e+00  1.82585764e+00]\n",
      " [ 8.59453738e-01  1.35103667e+00]\n",
      " [ 6.19223642e+00  3.05870509e+00]\n",
      " [ 1.50593901e+00  1.96784878e+00]\n",
      " [ 5.22577238e+00  4.26128817e+00]\n",
      " [ 2.04801369e+00  8.33238006e-01]\n",
      " [ 1.07596052e+00 -2.09774971e+00]\n",
      " [ 2.72235918e+00 -3.11604738e+00]\n",
      " [ 1.52862406e+00  6.81319982e-02]\n",
      " [ 6.32610941e+00  3.87024498e+00]\n",
      " [ 3.33013129e+00  2.76297903e+00]\n",
      " [ 3.23767495e+00  9.01434720e-01]\n",
      " [ 2.72103572e+00  3.54565668e+00]\n",
      " [ 1.44023931e+00  1.50166345e+00]\n",
      " [ 1.91319931e+00  1.14304733e+00]\n",
      " [ 8.43404865e+00  7.87733698e+00]\n",
      " [ 4.00807381e+00 -9.85257700e-02]\n",
      " [ 1.68853259e+00 -1.52727163e+00]\n",
      " [-1.14015877e+00 -8.02530193e+00]\n",
      " [-2.99281383e+00  1.25017047e+00]\n",
      " [ 3.84044743e+00 -2.53364444e+00]\n",
      " [ 2.91820717e+00 -2.86773777e+00]\n",
      " [ 2.19358826e+00 -1.73810851e-02]\n",
      " [ 2.67570233e+00 -2.89396882e-01]\n",
      " [ 5.67056799e+00  2.25788689e+00]\n",
      " [ 2.81755280e+00  7.84262240e-01]\n",
      " [ 4.85655880e+00 -5.75596727e-02]\n",
      " [ 6.43997192e+00  1.45468836e+01]\n",
      " [ 7.32733107e+00  1.42459059e+01]\n",
      " [ 7.50851917e+00  1.41064262e+01]\n",
      " [ 7.28112936e+00  1.45439281e+01]\n",
      " [ 6.81165457e+00  8.77660370e+00]\n",
      " [ 7.53592491e+00  9.40407944e+00]\n",
      " [ 1.25270624e+01  9.70610142e+00]\n",
      " [ 1.25985222e+01  9.35531330e+00]\n",
      " [ 1.09266520e+01  9.31688976e+00]\n",
      " [ 1.03608513e+01  7.97182512e+00]\n",
      " [ 9.90179157e+00  8.27293682e+00]\n",
      " [ 8.97801208e+00  8.97528839e+00]\n",
      " [ 1.02643213e+01  8.26200485e+00]\n",
      " [ 1.16285992e+01  9.48496914e+00]\n",
      " [ 1.04893436e+01  1.37578373e+01]\n",
      " [ 9.51376724e+00  1.00017738e+01]\n",
      " [ 1.28266077e+01  1.09214430e+01]\n",
      " [ 1.09116793e+01  1.09895487e+01]\n",
      " [ 9.74720573e+00  1.15801516e+01]\n",
      " [ 9.40197468e+00  1.36499548e+01]\n",
      " [ 8.75120640e+00  1.45679035e+01]\n",
      " [ 8.83446693e+00  1.42332125e+01]\n",
      " [ 8.40884495e+00  1.49857321e+01]\n",
      " [ 7.83223057e+00  1.15088205e+01]\n",
      " [ 7.19696903e+00  9.91808224e+00]\n",
      " [ 1.17478437e+01  1.11879520e+01]\n",
      " [ 1.06337986e+01  1.18388176e+01]\n",
      " [ 1.04692183e+01  9.82160091e+00]\n",
      " [ 6.17501450e+00  1.19277830e+01]\n",
      " [ 6.32282209e+00  1.18973455e+01]\n",
      " [ 1.03593493e+01  1.08723335e+01]\n",
      " [ 1.02635527e+01  8.95192146e+00]\n",
      " [ 1.05253191e+01  8.43919277e+00]\n",
      " [ 9.20722485e+00  9.89115810e+00]\n",
      " [ 9.06734848e+00  1.20329800e+01]\n",
      " [ 1.14944992e+01  1.02923317e+01]\n",
      " [ 9.65223980e+00  1.28086529e+01]\n",
      " [ 9.20773888e+00  1.15515003e+01]\n",
      " [ 8.94358253e+00  1.28257837e+01]\n",
      " [ 9.89676476e+00  1.44290972e+01]\n",
      " [ 8.72419167e+00  9.59697056e+00]\n",
      " [ 8.50311947e+00  1.09170380e+01]\n",
      " [ 8.88660622e+00  1.21004219e+01]\n",
      " [ 1.18410072e+01  1.12449503e+01]\n",
      " [ 1.01385603e+01  1.18877850e+01]\n",
      " [ 1.01812410e+01  1.29515247e+01]\n",
      " [ 8.11066532e+00  1.17585115e+01]\n",
      " [ 1.12092991e+01  1.21997452e+01]]\n"
     ]
    }
   ],
   "source": [
    "from sklearn.manifold import TSNE\n",
    "\n",
    "model = TSNE(n_components=2, random_state=0)\n",
    "result = model.fit_transform(kmeans_data)\n",
    "print (result)"
   ]
  },
  {
   "cell_type": "code",
   "execution_count": 9,
   "metadata": {
    "slideshow": {
     "slide_type": "subslide"
    }
   },
   "outputs": [],
   "source": [
    "from matplotlib.font_manager import FontProperties\n",
    "import matplotlib.pyplot as plt\n",
    "import numpy as np\n",
    "%matplotlib inline\n",
    "# Get current size\n",
    "fig_size = plt.rcParams[\"figure.figsize\"]\n",
    "# Set figure width to 12 and height to 9\n",
    "fig_size[0] = 4.0\n",
    "fig_size[1] = 3.0\n",
    "plt.rcParams[\"figure.figsize\"] = fig_size\n",
    "        \n",
    "\n"
   ]
  },
  {
   "cell_type": "code",
   "execution_count": 10,
   "metadata": {
    "slideshow": {
     "slide_type": "subslide"
    }
   },
   "outputs": [
    {
     "data": {
      "image/png": "[encoded data removed]",
      "text/plain": [
       "<matplotlib.figure.Figure at 0x1d56ca29198>"
      ]
     },
     "metadata": {},
     "output_type": "display_data"
    }
   ],
   "source": [
    "result_0 = np.array([result[i] for i in range(len(kmeans.labels_)) if kmeans.labels_[i] == 0])\n",
    "result_1 = np.array([result[i] for i in range(len(kmeans.labels_)) if kmeans.labels_[i] == 1])\n",
    "result_2 = np.array([result[i] for i in range(len(kmeans.labels_)) if kmeans.labels_[i] == 2])\n",
    "\n",
    "plt.scatter(result_0[:,0], result_0[:,1], c='y', linewidths=0.5, s=10)\n",
    "plt.scatter(result_1[:,0], result_1[:,1], c='g', linewidths=0.5, s=10)\n",
    "plt.scatter(result_2[:,0], result_2[:,1], c='b', linewidths=0.5, s=10)\n",
    "flg_kmeans = plt"
   ]
  },
  {
   "cell_type": "markdown",
   "metadata": {
    "collapsed": true,
    "slideshow": {
     "slide_type": "slide"
    }
   },
   "source": [
    "<h2>Hierarchical Clustering</h2>\n",
    "<ul>\n",
    "    <li>sklearn.cluster.AgglomerativeClustering</li>\n",
    "    <li>input</li>\n",
    "    <ul>\n",
    "        <li>data (n objects by n objects)</li>\n",
    "    </ul>\n",
    "</ul>"
   ]
  },
  {
   "cell_type": "markdown",
   "metadata": {
    "slideshow": {
     "slide_type": "subslide"
    }
   },
   "source": [
    "n_clusters<br>\n",
    "&nbsp;&nbsp;&nbsp;The number of clusters to find<br>\n",
    "affinity<br>\n",
    "&nbsp;&nbsp;&nbsp;Can be 'euclidean'(default), 'l1', 'l2', 'manhattan', 'cosine' or 'precomputed'<br>\n",
    "linkage<br>\n",
    "&nbsp;&nbsp;&nbsp;'ward', 'complete', 'average'\n",
    "<p style=\"color:red\">If linkage is “ward”, only “euclidean” is accepted</p>"
   ]
  },
  {
   "cell_type": "code",
   "execution_count": 11,
   "metadata": {
    "slideshow": {
     "slide_type": "subslide"
    }
   },
   "outputs": [
    {
     "name": "stdout",
     "output_type": "stream",
     "text": [
      "[2 2 2 1 0 1 5 5 2 2 1 5 5 2 1 5 5 2 1 0 0 0 2 2 0 0 2 5 0 2 5 1 0 2 2 0 0\n",
      " 2 2 0 0 2 2 0 0 2 2 0 2 5 2 5 2 5 2 2 0 5 5 3 0 3 3 4 4 0 3 3 0 0 0 4 3 0\n",
      " 0 4 4 3 0 3 4 0 3 3 3 3 3 3 0 3 3 3 3 4 4 0 3 4 0 4 0 3 4 4 0 4 3 3 4 0 3\n",
      " 4 3 4 4 4 3 4 4 3 3 3 4 4 4 4 4 3 4 3 3 3 3 3 0 0 0 3 3 3 3 0 3 3 0 0 4 3\n",
      " 0 3 3 3 4 0 3 0 3 0 0 3 3 0 3 0 3 3 0 0 0 3 3 3 0 0 0 0 0 3]\n",
      "[2 2 2 1 0 1 5 5 2 2 1 5 5 2 1 5 5 2 1 0 0 0 2 2 0 0 2 5 0 2 5 1 0 2 2 0 0\n",
      " 2 2 0 0 2 2 0 0 2 2 0 2 5 2 5 2 5 2 2 0 5 5 3 0 3 3 4 4 0 3 3 0 0 0 4 3 0\n",
      " 0 4 4 3 0 3 4 0 3 3 3 3 3 3 0 3 3 3 3 4 4 0 3 4 0 4 0 3 4 4 0 4 3 3 4 0 3\n",
      " 4 3 4 4 4 3 4 4 3 3 3 4 4 4 4 4 3 4 3 3 3 3 3 0 0 0 3 3 3 3 0 3 3 0 0 4 3\n",
      " 0 3 3 3 4 0 3 0 3 0 0 3 3 0 3 0 3 3 0 0 0 3 3 3 0 0 0 0 0 3]\n"
     ]
    }
   ],
   "source": [
    "from sklearn.cluster import AgglomerativeClustering\n",
    "\n",
    "L2_hierarchical_1 = AgglomerativeClustering(n_clusters=6, linkage='complete', affinity='l2').fit(two_mode_data)\n",
    "L2_hierarchical_2 = AgglomerativeClustering(n_clusters=6, linkage='complete',affinity='precomputed').fit(one_mode_L2_data)\n",
    "print (L2_hierarchical_1.labels_)\n",
    "print (L2_hierarchical_2.labels_)"
   ]
  },
  {
   "cell_type": "code",
   "execution_count": 12,
   "metadata": {
    "slideshow": {
     "slide_type": "subslide"
    }
   },
   "outputs": [],
   "source": [
    "from sklearn.preprocessing import MinMaxScaler\n",
    "hierarchical_data = MinMaxScaler().fit_transform(two_mode_data)\n",
    "hierarchical_example = AgglomerativeClustering(n_clusters=3, linkage='complete').fit(hierarchical_data)"
   ]
  },
  {
   "cell_type": "code",
   "execution_count": 13,
   "metadata": {
    "slideshow": {
     "slide_type": "subslide"
    }
   },
   "outputs": [
    {
     "name": "stdout",
     "output_type": "stream",
     "text": [
      "[[-9.41307545e+00 -5.36982441e+00]\n",
      " [-5.27640247e+00 -5.49918079e+00]\n",
      " [-7.33208895e+00 -8.36583614e+00]\n",
      " [-9.86803055e+00 -8.85849667e+00]\n",
      " [-2.71293235e+00 -8.07800102e+00]\n",
      " [-8.74751949e+00 -9.56701660e+00]\n",
      " [-6.87087154e+00 -6.61375618e+00]\n",
      " [-6.07435513e+00 -6.53456926e+00]\n",
      " [-7.68953991e+00 -7.03216743e+00]\n",
      " [-8.51977444e+00 -6.58942795e+00]\n",
      " [-7.97146225e+00 -9.49195194e+00]\n",
      " [-5.53940439e+00 -6.96382809e+00]\n",
      " [-6.14226818e+00 -7.58807802e+00]\n",
      " [-9.94132137e+00 -1.05815887e+01]\n",
      " [-9.56696224e+00 -1.01469898e+01]\n",
      " [-5.87846708e+00 -9.06414223e+00]\n",
      " [-6.34167147e+00 -9.82225227e+00]\n",
      " [-5.71603203e+00 -9.83495331e+00]\n",
      " [-8.52365685e+00 -1.03194447e+01]\n",
      " [-7.94164467e+00 -3.64376426e+00]\n",
      " [-9.13688850e+00 -5.25335646e+00]\n",
      " [-6.13593769e+00 -2.62695193e+00]\n",
      " [-6.45533419e+00 -5.23342800e+00]\n",
      " [-5.27841616e+00 -4.71946764e+00]\n",
      " [-5.62069654e+00 -4.52530670e+00]\n",
      " [-2.25526690e+00 -8.29965019e+00]\n",
      " [-5.51274776e+00 -7.56508780e+00]\n",
      " [-4.55233908e+00 -6.10934210e+00]\n",
      " [-3.93887067e+00 -8.34850216e+00]\n",
      " [-6.96671963e+00 -5.86230040e+00]\n",
      " [-6.87722206e+00 -9.54773331e+00]\n",
      " [-7.72863102e+00 -9.33568954e+00]\n",
      " [-4.41442728e+00 -7.77206182e+00]\n",
      " [-4.72162676e+00 -9.87759686e+00]\n",
      " [-4.51377773e+00 -7.14347553e+00]\n",
      " [-6.30863476e+00 -4.99403048e+00]\n",
      " [-3.80580735e+00 -7.34558010e+00]\n",
      " [-4.16054487e+00 -6.64207315e+00]\n",
      " [-4.08926249e+00 -5.78821754e+00]\n",
      " [-8.50391388e+00 -3.38012290e+00]\n",
      " [-8.63604450e+00 -5.34844637e+00]\n",
      " [-6.75343657e+00 -2.38801765e+00]\n",
      " [-9.25625801e+00 -6.79821539e+00]\n",
      " [-6.52473116e+00 -2.29881334e+00]\n",
      " [-7.79705143e+00 -5.16914463e+00]\n",
      " [-7.52279425e+00 -2.78234935e+00]\n",
      " [-8.76852989e+00 -3.87256026e+00]\n",
      " [-8.70585155e+00 -6.38914204e+00]\n",
      " [-7.10302496e+00 -8.49740982e+00]\n",
      " [-8.43016815e+00 -9.06518078e+00]\n",
      " [-1.05828257e+01 -7.19241333e+00]\n",
      " [-6.90795803e+00 -7.59987736e+00]\n",
      " [-9.72994328e+00 -8.45439529e+00]\n",
      " [-5.77095270e+00 -9.29528904e+00]\n",
      " [-7.87833500e+00 -5.91458607e+00]\n",
      " [-7.96642733e+00 -8.02116680e+00]\n",
      " [-8.77546501e+00 -5.98452902e+00]\n",
      " [-5.93373728e+00 -8.50044250e+00]\n",
      " [-9.10004997e+00 -8.17898464e+00]\n",
      " [ 6.31451070e-01  5.02833176e+00]\n",
      " [ 6.08043766e+00  7.30773449e+00]\n",
      " [ 6.34013939e+00  7.88304424e+00]\n",
      " [-3.46427739e-01  3.44623375e+00]\n",
      " [-1.50636041e+00 -1.64904225e+00]\n",
      " [ 3.63654947e+00  4.18736553e+00]\n",
      " [-4.01687413e-01 -3.62713385e+00]\n",
      " [-2.30285311e+00 -1.31506395e+00]\n",
      " [ 3.71558517e-01  1.83711886e+00]\n",
      " [ 6.11559916e+00  7.36414289e+00]\n",
      " [ 1.02929223e+00 -5.87291718e+00]\n",
      " [ 4.63876724e+00  6.42963123e+00]\n",
      " [-3.49312878e+00 -3.32379103e+00]\n",
      " [ 5.12522399e-01  3.16575336e+00]\n",
      " [-2.54146361e+00 -9.53254032e+00]\n",
      " [-8.11138511e-01 -2.17995143e+00]\n",
      " [ 2.17027426e+00  4.71118259e+00]\n",
      " [-4.74300444e-01  2.88068628e+00]\n",
      " [ 3.68479085e+00  5.26591444e+00]\n",
      " [ 9.67408359e-01 -5.90562391e+00]\n",
      " [-2.77496648e+00  8.01343143e-01]\n",
      " [ 7.17439875e-03  1.05470729e+00]\n",
      " [-3.32780927e-01  2.99516708e-01]\n",
      " [ 3.92326999e+00  2.65485620e+00]\n",
      " [ 1.15971413e+01  8.54663467e+00]\n",
      " [ 9.95895386e-01 -2.00925040e+00]\n",
      " [ 2.80874252e-01  1.08512938e+00]\n",
      " [ 3.90222502e+00  3.58028173e+00]\n",
      " [ 4.18615103e+00  2.30061197e+00]\n",
      " [ 4.70234823e+00  2.94212484e+00]\n",
      " [ 3.62286329e+00  1.85586488e+00]\n",
      " [ 4.84778070e+00  4.18372250e+00]\n",
      " [ 4.93746567e+00  3.67260599e+00]\n",
      " [ 5.40443945e+00  4.66189623e+00]\n",
      " [ 4.92999941e-01 -2.83488750e-01]\n",
      " [-2.51031995e-01 -9.50167894e-01]\n",
      " [ 9.13293839e-01 -6.01823378e+00]\n",
      " [ 5.45703697e+00  1.46827221e+01]\n",
      " [-3.71056795e-01  6.25288069e-01]\n",
      " [-1.66382158e+00 -1.79814827e+00]\n",
      " [-2.27641678e+00  5.04285932e-01]\n",
      " [-5.67714453e-01  1.49116445e+00]\n",
      " [ 9.55248296e-01  2.81557274e+00]\n",
      " [ 2.00103831e+00 -4.41965222e-01]\n",
      " [ 2.35037589e+00  1.82585764e+00]\n",
      " [ 8.59453738e-01  1.35103667e+00]\n",
      " [ 6.19223642e+00  3.05870509e+00]\n",
      " [ 1.50593901e+00  1.96784878e+00]\n",
      " [ 5.22577238e+00  4.26128817e+00]\n",
      " [ 2.04801369e+00  8.33238006e-01]\n",
      " [ 1.07596052e+00 -2.09774971e+00]\n",
      " [ 2.72235918e+00 -3.11604738e+00]\n",
      " [ 1.52862406e+00  6.81319982e-02]\n",
      " [ 6.32610941e+00  3.87024498e+00]\n",
      " [ 3.33013129e+00  2.76297903e+00]\n",
      " [ 3.23767495e+00  9.01434720e-01]\n",
      " [ 2.72103572e+00  3.54565668e+00]\n",
      " [ 1.44023931e+00  1.50166345e+00]\n",
      " [ 1.91319931e+00  1.14304733e+00]\n",
      " [ 8.43404865e+00  7.87733698e+00]\n",
      " [ 4.00807381e+00 -9.85257700e-02]\n",
      " [ 1.68853259e+00 -1.52727163e+00]\n",
      " [-1.14015877e+00 -8.02530193e+00]\n",
      " [-2.99281383e+00  1.25017047e+00]\n",
      " [ 3.84044743e+00 -2.53364444e+00]\n",
      " [ 2.91820717e+00 -2.86773777e+00]\n",
      " [ 2.19358826e+00 -1.73810851e-02]\n",
      " [ 2.67570233e+00 -2.89396882e-01]\n",
      " [ 5.67056799e+00  2.25788689e+00]\n",
      " [ 2.81755280e+00  7.84262240e-01]\n",
      " [ 4.85655880e+00 -5.75596727e-02]\n",
      " [ 6.43997192e+00  1.45468836e+01]\n",
      " [ 7.32733107e+00  1.42459059e+01]\n",
      " [ 7.50851917e+00  1.41064262e+01]\n",
      " [ 7.28112936e+00  1.45439281e+01]\n",
      " [ 6.81165457e+00  8.77660370e+00]\n",
      " [ 7.53592491e+00  9.40407944e+00]\n",
      " [ 1.25270624e+01  9.70610142e+00]\n",
      " [ 1.25985222e+01  9.35531330e+00]\n",
      " [ 1.09266520e+01  9.31688976e+00]\n",
      " [ 1.03608513e+01  7.97182512e+00]\n",
      " [ 9.90179157e+00  8.27293682e+00]\n",
      " [ 8.97801208e+00  8.97528839e+00]\n",
      " [ 1.02643213e+01  8.26200485e+00]\n",
      " [ 1.16285992e+01  9.48496914e+00]\n",
      " [ 1.04893436e+01  1.37578373e+01]\n",
      " [ 9.51376724e+00  1.00017738e+01]\n",
      " [ 1.28266077e+01  1.09214430e+01]\n",
      " [ 1.09116793e+01  1.09895487e+01]\n",
      " [ 9.74720573e+00  1.15801516e+01]\n",
      " [ 9.40197468e+00  1.36499548e+01]\n",
      " [ 8.75120640e+00  1.45679035e+01]\n",
      " [ 8.83446693e+00  1.42332125e+01]\n",
      " [ 8.40884495e+00  1.49857321e+01]\n",
      " [ 7.83223057e+00  1.15088205e+01]\n",
      " [ 7.19696903e+00  9.91808224e+00]\n",
      " [ 1.17478437e+01  1.11879520e+01]\n",
      " [ 1.06337986e+01  1.18388176e+01]\n",
      " [ 1.04692183e+01  9.82160091e+00]\n",
      " [ 6.17501450e+00  1.19277830e+01]\n",
      " [ 6.32282209e+00  1.18973455e+01]\n",
      " [ 1.03593493e+01  1.08723335e+01]\n",
      " [ 1.02635527e+01  8.95192146e+00]\n",
      " [ 1.05253191e+01  8.43919277e+00]\n",
      " [ 9.20722485e+00  9.89115810e+00]\n",
      " [ 9.06734848e+00  1.20329800e+01]\n",
      " [ 1.14944992e+01  1.02923317e+01]\n",
      " [ 9.65223980e+00  1.28086529e+01]\n",
      " [ 9.20773888e+00  1.15515003e+01]\n",
      " [ 8.94358253e+00  1.28257837e+01]\n",
      " [ 9.89676476e+00  1.44290972e+01]\n",
      " [ 8.72419167e+00  9.59697056e+00]\n",
      " [ 8.50311947e+00  1.09170380e+01]\n",
      " [ 8.88660622e+00  1.21004219e+01]\n",
      " [ 1.18410072e+01  1.12449503e+01]\n",
      " [ 1.01385603e+01  1.18877850e+01]\n",
      " [ 1.01812410e+01  1.29515247e+01]\n",
      " [ 8.11066532e+00  1.17585115e+01]\n",
      " [ 1.12092991e+01  1.21997452e+01]]\n"
     ]
    }
   ],
   "source": [
    "from sklearn.manifold import TSNE\n",
    "\n",
    "model = TSNE(n_components=2, random_state=0)\n",
    "result = model.fit_transform(hierarchical_data)\n",
    "print (result)"
   ]
  },
  {
   "cell_type": "code",
   "execution_count": 14,
   "metadata": {
    "slideshow": {
     "slide_type": "-"
    }
   },
   "outputs": [],
   "source": [
    "from matplotlib.font_manager import FontProperties\n",
    "import matplotlib.pyplot as plt\n",
    "import numpy as np\n",
    "%matplotlib inline\n",
    "# Get current size\n",
    "fig_size = plt.rcParams[\"figure.figsize\"]\n",
    "# Set figure width to 12 and height to 9\n",
    "fig_size[0] = 4.0\n",
    "fig_size[1] = 3.0\n",
    "plt.rcParams[\"figure.figsize\"] = fig_size"
   ]
  },
  {
   "cell_type": "code",
   "execution_count": 15,
   "metadata": {
    "slideshow": {
     "slide_type": "subslide"
    }
   },
   "outputs": [
    {
     "data": {
      "image/png": "[encoded data removed]",
      "text/plain": [
       "<matplotlib.figure.Figure at 0x1d56cb10e80>"
      ]
     },
     "metadata": {},
     "output_type": "display_data"
    }
   ],
   "source": [
    "result_0 = np.array([result[i] for i in range(len(hierarchical_example.labels_)) if hierarchical_example.labels_[i] == 0])\n",
    "result_1 = np.array([result[i] for i in range(len(hierarchical_example.labels_)) if hierarchical_example.labels_[i] == 1])\n",
    "result_2 = np.array([result[i] for i in range(len(hierarchical_example.labels_)) if hierarchical_example.labels_[i] == 2])\n",
    "\n",
    "plt.scatter(result_0[:,0], result_0[:,1], c='y', linewidths=0.5, s=10)\n",
    "plt.scatter(result_1[:,0], result_1[:,1], c='g', linewidths=0.5, s=10)\n",
    "plt.scatter(result_2[:,0], result_2[:,1], c='b', linewidths=0.5, s=10)\n",
    "flg_hierarchical = plt"
   ]
  },
  {
   "cell_type": "markdown",
   "metadata": {
    "collapsed": true,
    "slideshow": {
     "slide_type": "slide"
    }
   },
   "source": [
    "<h2>Gaussian Mixture Model</h2>\n",
    "<ul>\n",
    "<li>sklearn.mixture.GaussianMixture\n",
    "<li>input\n",
    "    <ul>\n",
    "        <li>k clusters\n",
    "        <li>data (n object with p attributes)</li>\n",
    "    </ul>\n",
    "</ul>"
   ]
  },
  {
   "cell_type": "markdown",
   "metadata": {
    "slideshow": {
     "slide_type": "subslide"
    }
   },
   "source": [
    "n_components<br>\n",
    "&nbsp;&nbsp;&nbsp;The number of mixture components<br>\n",
    "covariance_type<br>\n",
    "&nbsp;&nbsp;&nbsp;‘full’, ‘tied’, ‘diag’, ‘spherical’<br> \n",
    "random_state<br>"
   ]
  },
  {
   "cell_type": "code",
   "execution_count": 16,
   "metadata": {
    "scrolled": true,
    "slideshow": {
     "slide_type": "subslide"
    }
   },
   "outputs": [
    {
     "name": "stdout",
     "output_type": "stream",
     "text": [
      "[2 2 2 2 2 2 2 2 2 2 2 2 2 2 2 2 2 2 2 2 2 2 2 2 2 2 2 2 2 2 2 2 2 2 2 2 2\n",
      " 2 2 2 2 2 2 2 2 2 2 2 2 2 2 2 2 2 2 2 2 2 2 1 1 0 1 1 1 1 2 1 1 1 1 2 1 2\n",
      " 1 1 1 1 1 1 1 2 1 0 1 1 1 1 1 1 1 1 1 1 1 1 1 1 1 1 1 1 1 1 1 1 1 1 1 1 1\n",
      " 1 1 1 1 1 1 1 1 1 1 1 1 1 1 1 1 1 1 1 0 0 0 0 0 0 0 0 0 0 0 0 0 0 0 0 0 0\n",
      " 0 0 0 0 0 0 0 0 0 0 0 0 0 0 0 0 0 0 0 0 0 0 0 0 0 0 0 0 0 0]\n"
     ]
    }
   ],
   "source": [
    "from sklearn.mixture import GaussianMixture\n",
    "from sklearn.preprocessing import MinMaxScaler\n",
    "\n",
    "gmm_data = MinMaxScaler().fit_transform(two_mode_data)\n",
    "gmm = GaussianMixture(n_components=3,random_state=0)\n",
    "gmm.fit(gmm_data)\n",
    "gmm_labels = gmm.predict(gmm_data)\n",
    "print (gmm_labels)"
   ]
  },
  {
   "cell_type": "code",
   "execution_count": 17,
   "metadata": {
    "slideshow": {
     "slide_type": "subslide"
    }
   },
   "outputs": [
    {
     "name": "stdout",
     "output_type": "stream",
     "text": [
      "[[-9.41307545e+00 -5.36982441e+00]\n",
      " [-5.27640247e+00 -5.49918079e+00]\n",
      " [-7.33208895e+00 -8.36583614e+00]\n",
      " [-9.86803055e+00 -8.85849667e+00]\n",
      " [-2.71293235e+00 -8.07800102e+00]\n",
      " [-8.74751949e+00 -9.56701660e+00]\n",
      " [-6.87087154e+00 -6.61375618e+00]\n",
      " [-6.07435513e+00 -6.53456926e+00]\n",
      " [-7.68953991e+00 -7.03216743e+00]\n",
      " [-8.51977444e+00 -6.58942795e+00]\n",
      " [-7.97146225e+00 -9.49195194e+00]\n",
      " [-5.53940439e+00 -6.96382809e+00]\n",
      " [-6.14226818e+00 -7.58807802e+00]\n",
      " [-9.94132137e+00 -1.05815887e+01]\n",
      " [-9.56696224e+00 -1.01469898e+01]\n",
      " [-5.87846708e+00 -9.06414223e+00]\n",
      " [-6.34167147e+00 -9.82225227e+00]\n",
      " [-5.71603203e+00 -9.83495331e+00]\n",
      " [-8.52365685e+00 -1.03194447e+01]\n",
      " [-7.94164467e+00 -3.64376426e+00]\n",
      " [-9.13688850e+00 -5.25335646e+00]\n",
      " [-6.13593769e+00 -2.62695193e+00]\n",
      " [-6.45533419e+00 -5.23342800e+00]\n",
      " [-5.27841616e+00 -4.71946764e+00]\n",
      " [-5.62069654e+00 -4.52530670e+00]\n",
      " [-2.25526690e+00 -8.29965019e+00]\n",
      " [-5.51274776e+00 -7.56508780e+00]\n",
      " [-4.55233908e+00 -6.10934210e+00]\n",
      " [-3.93887067e+00 -8.34850216e+00]\n",
      " [-6.96671963e+00 -5.86230040e+00]\n",
      " [-6.87722206e+00 -9.54773331e+00]\n",
      " [-7.72863102e+00 -9.33568954e+00]\n",
      " [-4.41442728e+00 -7.77206182e+00]\n",
      " [-4.72162676e+00 -9.87759686e+00]\n",
      " [-4.51377773e+00 -7.14347553e+00]\n",
      " [-6.30863476e+00 -4.99403048e+00]\n",
      " [-3.80580735e+00 -7.34558010e+00]\n",
      " [-4.16054487e+00 -6.64207315e+00]\n",
      " [-4.08926249e+00 -5.78821754e+00]\n",
      " [-8.50391388e+00 -3.38012290e+00]\n",
      " [-8.63604450e+00 -5.34844637e+00]\n",
      " [-6.75343657e+00 -2.38801765e+00]\n",
      " [-9.25625801e+00 -6.79821539e+00]\n",
      " [-6.52473116e+00 -2.29881334e+00]\n",
      " [-7.79705143e+00 -5.16914463e+00]\n",
      " [-7.52279425e+00 -2.78234935e+00]\n",
      " [-8.76852989e+00 -3.87256026e+00]\n",
      " [-8.70585155e+00 -6.38914204e+00]\n",
      " [-7.10302496e+00 -8.49740982e+00]\n",
      " [-8.43016815e+00 -9.06518078e+00]\n",
      " [-1.05828257e+01 -7.19241333e+00]\n",
      " [-6.90795803e+00 -7.59987736e+00]\n",
      " [-9.72994328e+00 -8.45439529e+00]\n",
      " [-5.77095270e+00 -9.29528904e+00]\n",
      " [-7.87833500e+00 -5.91458607e+00]\n",
      " [-7.96642733e+00 -8.02116680e+00]\n",
      " [-8.77546501e+00 -5.98452902e+00]\n",
      " [-5.93373728e+00 -8.50044250e+00]\n",
      " [-9.10004997e+00 -8.17898464e+00]\n",
      " [ 6.31451070e-01  5.02833176e+00]\n",
      " [ 6.08043766e+00  7.30773449e+00]\n",
      " [ 6.34013939e+00  7.88304424e+00]\n",
      " [-3.46427739e-01  3.44623375e+00]\n",
      " [-1.50636041e+00 -1.64904225e+00]\n",
      " [ 3.63654947e+00  4.18736553e+00]\n",
      " [-4.01687413e-01 -3.62713385e+00]\n",
      " [-2.30285311e+00 -1.31506395e+00]\n",
      " [ 3.71558517e-01  1.83711886e+00]\n",
      " [ 6.11559916e+00  7.36414289e+00]\n",
      " [ 1.02929223e+00 -5.87291718e+00]\n",
      " [ 4.63876724e+00  6.42963123e+00]\n",
      " [-3.49312878e+00 -3.32379103e+00]\n",
      " [ 5.12522399e-01  3.16575336e+00]\n",
      " [-2.54146361e+00 -9.53254032e+00]\n",
      " [-8.11138511e-01 -2.17995143e+00]\n",
      " [ 2.17027426e+00  4.71118259e+00]\n",
      " [-4.74300444e-01  2.88068628e+00]\n",
      " [ 3.68479085e+00  5.26591444e+00]\n",
      " [ 9.67408359e-01 -5.90562391e+00]\n",
      " [-2.77496648e+00  8.01343143e-01]\n",
      " [ 7.17439875e-03  1.05470729e+00]\n",
      " [-3.32780927e-01  2.99516708e-01]\n",
      " [ 3.92326999e+00  2.65485620e+00]\n",
      " [ 1.15971413e+01  8.54663467e+00]\n",
      " [ 9.95895386e-01 -2.00925040e+00]\n",
      " [ 2.80874252e-01  1.08512938e+00]\n",
      " [ 3.90222502e+00  3.58028173e+00]\n",
      " [ 4.18615103e+00  2.30061197e+00]\n",
      " [ 4.70234823e+00  2.94212484e+00]\n",
      " [ 3.62286329e+00  1.85586488e+00]\n",
      " [ 4.84778070e+00  4.18372250e+00]\n",
      " [ 4.93746567e+00  3.67260599e+00]\n",
      " [ 5.40443945e+00  4.66189623e+00]\n",
      " [ 4.92999941e-01 -2.83488750e-01]\n",
      " [-2.51031995e-01 -9.50167894e-01]\n",
      " [ 9.13293839e-01 -6.01823378e+00]\n",
      " [ 5.45703697e+00  1.46827221e+01]\n",
      " [-3.71056795e-01  6.25288069e-01]\n",
      " [-1.66382158e+00 -1.79814827e+00]\n",
      " [-2.27641678e+00  5.04285932e-01]\n",
      " [-5.67714453e-01  1.49116445e+00]\n",
      " [ 9.55248296e-01  2.81557274e+00]\n",
      " [ 2.00103831e+00 -4.41965222e-01]\n",
      " [ 2.35037589e+00  1.82585764e+00]\n",
      " [ 8.59453738e-01  1.35103667e+00]\n",
      " [ 6.19223642e+00  3.05870509e+00]\n",
      " [ 1.50593901e+00  1.96784878e+00]\n",
      " [ 5.22577238e+00  4.26128817e+00]\n",
      " [ 2.04801369e+00  8.33238006e-01]\n",
      " [ 1.07596052e+00 -2.09774971e+00]\n",
      " [ 2.72235918e+00 -3.11604738e+00]\n",
      " [ 1.52862406e+00  6.81319982e-02]\n",
      " [ 6.32610941e+00  3.87024498e+00]\n",
      " [ 3.33013129e+00  2.76297903e+00]\n",
      " [ 3.23767495e+00  9.01434720e-01]\n",
      " [ 2.72103572e+00  3.54565668e+00]\n",
      " [ 1.44023931e+00  1.50166345e+00]\n",
      " [ 1.91319931e+00  1.14304733e+00]\n",
      " [ 8.43404865e+00  7.87733698e+00]\n",
      " [ 4.00807381e+00 -9.85257700e-02]\n",
      " [ 1.68853259e+00 -1.52727163e+00]\n",
      " [-1.14015877e+00 -8.02530193e+00]\n",
      " [-2.99281383e+00  1.25017047e+00]\n",
      " [ 3.84044743e+00 -2.53364444e+00]\n",
      " [ 2.91820717e+00 -2.86773777e+00]\n",
      " [ 2.19358826e+00 -1.73810851e-02]\n",
      " [ 2.67570233e+00 -2.89396882e-01]\n",
      " [ 5.67056799e+00  2.25788689e+00]\n",
      " [ 2.81755280e+00  7.84262240e-01]\n",
      " [ 4.85655880e+00 -5.75596727e-02]\n",
      " [ 6.43997192e+00  1.45468836e+01]\n",
      " [ 7.32733107e+00  1.42459059e+01]\n",
      " [ 7.50851917e+00  1.41064262e+01]\n",
      " [ 7.28112936e+00  1.45439281e+01]\n",
      " [ 6.81165457e+00  8.77660370e+00]\n",
      " [ 7.53592491e+00  9.40407944e+00]\n",
      " [ 1.25270624e+01  9.70610142e+00]\n",
      " [ 1.25985222e+01  9.35531330e+00]\n",
      " [ 1.09266520e+01  9.31688976e+00]\n",
      " [ 1.03608513e+01  7.97182512e+00]\n",
      " [ 9.90179157e+00  8.27293682e+00]\n",
      " [ 8.97801208e+00  8.97528839e+00]\n",
      " [ 1.02643213e+01  8.26200485e+00]\n",
      " [ 1.16285992e+01  9.48496914e+00]\n",
      " [ 1.04893436e+01  1.37578373e+01]\n",
      " [ 9.51376724e+00  1.00017738e+01]\n",
      " [ 1.28266077e+01  1.09214430e+01]\n",
      " [ 1.09116793e+01  1.09895487e+01]\n",
      " [ 9.74720573e+00  1.15801516e+01]\n",
      " [ 9.40197468e+00  1.36499548e+01]\n",
      " [ 8.75120640e+00  1.45679035e+01]\n",
      " [ 8.83446693e+00  1.42332125e+01]\n",
      " [ 8.40884495e+00  1.49857321e+01]\n",
      " [ 7.83223057e+00  1.15088205e+01]\n",
      " [ 7.19696903e+00  9.91808224e+00]\n",
      " [ 1.17478437e+01  1.11879520e+01]\n",
      " [ 1.06337986e+01  1.18388176e+01]\n",
      " [ 1.04692183e+01  9.82160091e+00]\n",
      " [ 6.17501450e+00  1.19277830e+01]\n",
      " [ 6.32282209e+00  1.18973455e+01]\n",
      " [ 1.03593493e+01  1.08723335e+01]\n",
      " [ 1.02635527e+01  8.95192146e+00]\n",
      " [ 1.05253191e+01  8.43919277e+00]\n",
      " [ 9.20722485e+00  9.89115810e+00]\n",
      " [ 9.06734848e+00  1.20329800e+01]\n",
      " [ 1.14944992e+01  1.02923317e+01]\n",
      " [ 9.65223980e+00  1.28086529e+01]\n",
      " [ 9.20773888e+00  1.15515003e+01]\n",
      " [ 8.94358253e+00  1.28257837e+01]\n",
      " [ 9.89676476e+00  1.44290972e+01]\n",
      " [ 8.72419167e+00  9.59697056e+00]\n",
      " [ 8.50311947e+00  1.09170380e+01]\n",
      " [ 8.88660622e+00  1.21004219e+01]\n",
      " [ 1.18410072e+01  1.12449503e+01]\n",
      " [ 1.01385603e+01  1.18877850e+01]\n",
      " [ 1.01812410e+01  1.29515247e+01]\n",
      " [ 8.11066532e+00  1.17585115e+01]\n",
      " [ 1.12092991e+01  1.21997452e+01]]\n"
     ]
    }
   ],
   "source": [
    "from sklearn.manifold import TSNE\n",
    "\n",
    "model = TSNE(n_components=2, random_state=0)\n",
    "result = model.fit_transform(gmm_data)\n",
    "print (result)"
   ]
  },
  {
   "cell_type": "code",
   "execution_count": 18,
   "metadata": {
    "slideshow": {
     "slide_type": "subslide"
    }
   },
   "outputs": [],
   "source": [
    "from matplotlib.font_manager import FontProperties\n",
    "import matplotlib.pyplot as plt\n",
    "import numpy as np\n",
    "%matplotlib inline\n",
    "# Get current size\n",
    "fig_size = plt.rcParams[\"figure.figsize\"]\n",
    "# Set figure width to 12 and height to 9\n",
    "fig_size[0] = 4.0\n",
    "fig_size[1] = 3.0\n",
    "plt.rcParams[\"figure.figsize\"] = fig_size"
   ]
  },
  {
   "cell_type": "code",
   "execution_count": 19,
   "metadata": {
    "slideshow": {
     "slide_type": "subslide"
    }
   },
   "outputs": [
    {
     "data": {
      "image/png": "[encoded data removed]",
      "text/plain": [
       "<matplotlib.figure.Figure at 0x1d56cb8e390>"
      ]
     },
     "metadata": {},
     "output_type": "display_data"
    }
   ],
   "source": [
    "result_0 = np.array([result[i] for i in range(len(gmm_labels)) if gmm_labels[i] == 0])\n",
    "result_1 = np.array([result[i] for i in range(len(gmm_labels)) if gmm_labels[i] == 1])\n",
    "result_2 = np.array([result[i] for i in range(len(gmm_labels)) if gmm_labels[i] == 2])\n",
    "\n",
    "plt.scatter(result_0[:,0], result_0[:,1], c='y', linewidths=0.5, s=10)\n",
    "plt.scatter(result_1[:,0], result_1[:,1], c='g', linewidths=0.5, s=10)\n",
    "plt.scatter(result_2[:,0], result_2[:,1], c='b', linewidths=0.5, s=10)\n",
    "flg_gmm = plt"
   ]
  },
  {
   "cell_type": "markdown",
   "metadata": {
    "slideshow": {
     "slide_type": "slide"
    }
   },
   "source": [
    "<h2>DBScan</h2>\n",
    "<ul>\n",
    "<li>sklearn.cluster.DBSCAN\n",
    "<li>input\n",
    "    <ul>\n",
    "        <li>Eps: Maximum radius of the neighborhood</li>\n",
    "        <li>MinPts: Minimum number of points in an Eps-neighborhood of that point</li>\n",
    "        <li>data (n object with p attributes)</li>\n",
    "    </ul>\n",
    "</ul>"
   ]
  },
  {
   "cell_type": "markdown",
   "metadata": {
    "slideshow": {
     "slide_type": "subslide"
    }
   },
   "source": [
    "eps<br>\n",
    "&nbsp;&nbsp;&nbsp;The maximum distance between two samples for them to be considered as in the same neighborhood<br>\n",
    "min_samples<br>\n",
    "&nbsp;&nbsp;&nbsp;The number of samples (or total weight) in a neighborhood for a point to be considered as a core point"
   ]
  },
  {
   "cell_type": "code",
   "execution_count": 20,
   "metadata": {
    "slideshow": {
     "slide_type": "subslide"
    }
   },
   "outputs": [
    {
     "name": "stdout",
     "output_type": "stream",
     "text": [
      "[ 0  0 -1 -1 -1 -1  1  1  0  0 -1  1 -1 -1 -1  1  1 -1 -1  3 -1 -1  0  0\n",
      "  3  3 -1  1 -1  0  1 -1 -1 -1 -1 -1  3 -1  0 -1 -1  0 -1  2 -1  0  0 -1\n",
      "  0  1 -1  1 -1 -1  0 -1 -1  1  1  2  2  2  2  2  2  2  2  2 -1 -1  3  2\n",
      "  2 -1 -1  2  2  2 -1  2 -1  2  2  2  2  2  2  2  2  2  2  2  2 -1  2 -1\n",
      "  2  2  2  2  2  2  2  2  2 -1  2  2 -1  2  2  2  2  2  2  2  2  2  2  2\n",
      "  2  2  2  2  2  2  2  2  2  2  2  2  2  2  2  2  2  2  2  2  2 -1  2  2\n",
      "  3  3  2  2  2  2  2  2  2  2  2 -1  2 -1  2  2  2  2  2  2  2  2  2  2\n",
      " -1  2  2  2  2 -1 -1  3  3  2]\n"
     ]
    }
   ],
   "source": [
    "from sklearn.cluster import DBSCAN\n",
    "\n",
    "dbscan = DBSCAN(eps=30, min_samples=9)\n",
    "dbscan.fit(two_mode_data)\n",
    "dbscan_labels = dbscan.labels_\n",
    "print (dbscan_labels)"
   ]
  },
  {
   "cell_type": "code",
   "execution_count": 21,
   "metadata": {
    "slideshow": {
     "slide_type": "subslide"
    }
   },
   "outputs": [
    {
     "name": "stdout",
     "output_type": "stream",
     "text": [
      "4\n"
     ]
    }
   ],
   "source": [
    "n_clusters = len(set(dbscan_labels)) - (1 if -1 in dbscan_labels else 0)\n",
    "print (n_clusters)"
   ]
  },
  {
   "cell_type": "code",
   "execution_count": 22,
   "metadata": {
    "slideshow": {
     "slide_type": "subslide"
    }
   },
   "outputs": [
    {
     "name": "stdout",
     "output_type": "stream",
     "text": [
      "0 : 13\n",
      "1 : 11\n",
      "2 : 99\n",
      "3 : 9\n",
      "outlier :  46\n"
     ]
    }
   ],
   "source": [
    "for index in range(n_clusters):\n",
    "    print (index, \":\", dbscan_labels.tolist().count(index))\n",
    "print (\"outlier : \", dbscan_labels.tolist().count(-1))"
   ]
  },
  {
   "cell_type": "code",
   "execution_count": 23,
   "metadata": {
    "slideshow": {
     "slide_type": "subslide"
    }
   },
   "outputs": [
    {
     "name": "stdout",
     "output_type": "stream",
     "text": [
      "[[-8.73002148e+00  8.44740868e+00]\n",
      " [-8.01413631e+00  8.78462029e+00]\n",
      " [-1.01411104e+01  1.01703463e+01]\n",
      " [-1.24425402e+01  1.18354988e+01]\n",
      " [-1.81299138e+00  3.16634464e+00]\n",
      " [-1.20997181e+01  1.19959126e+01]\n",
      " [-1.10910816e+01  1.13141079e+01]\n",
      " [-1.15556431e+01  1.08812113e+01]\n",
      " [-8.31432152e+00  8.22097206e+00]\n",
      " [-7.91068602e+00  8.71203041e+00]\n",
      " [-1.23915596e+01  1.21456814e+01]\n",
      " [-1.09168291e+01  1.12814350e+01]\n",
      " [-1.14251060e+01  1.14765406e+01]\n",
      " [-9.64652061e+00  9.78817081e+00]\n",
      " [-1.25723000e+01  1.21592045e+01]\n",
      " [-1.16195593e+01  1.10870199e+01]\n",
      " [-1.14215107e+01  1.07124863e+01]\n",
      " [-9.42252827e+00  9.47670460e+00]\n",
      " [-1.27867155e+01  1.23043528e+01]\n",
      " [-4.58416939e+00  5.09106159e+00]\n",
      " [-2.95875263e+00  4.08353233e+00]\n",
      " [-2.84811997e+00  3.64446902e+00]\n",
      " [-8.13758659e+00  8.06304932e+00]\n",
      " [-7.53393459e+00  8.19487190e+00]\n",
      " [-4.34581900e+00  5.42726231e+00]\n",
      " [-4.08307409e+00  4.93902445e+00]\n",
      " [-1.02450771e+01  1.03249321e+01]\n",
      " [-1.10073338e+01  1.13088322e+01]\n",
      " [-5.63084173e+00  6.30171680e+00]\n",
      " [-7.74244213e+00  8.54150581e+00]\n",
      " [-1.10242853e+01  1.12608166e+01]\n",
      " [-1.25004864e+01  1.20482407e+01]\n",
      " [-7.26315022e+00  7.76160574e+00]\n",
      " [-1.08446989e+01  1.04377918e+01]\n",
      " [-9.01521587e+00  8.97186947e+00]\n",
      " [-5.73213959e+00  6.37077808e+00]\n",
      " [-5.11025953e+00  5.67494583e+00]\n",
      " [-8.91255474e+00  9.36829853e+00]\n",
      " [-7.73084402e+00  8.09303188e+00]\n",
      " [-2.44429016e+00  3.76321745e+00]\n",
      " [-3.39871860e+00  4.32606363e+00]\n",
      " [-8.13305378e+00  8.06764317e+00]\n",
      " [-8.74413490e+00  9.27353477e+00]\n",
      " [ 2.62908153e-02  1.55676234e+00]\n",
      " [-5.15650702e+00  5.81938601e+00]\n",
      " [-8.83599186e+00  8.76141453e+00]\n",
      " [-8.31082916e+00  8.96483421e+00]\n",
      " [-7.19471073e+00  7.68518448e+00]\n",
      " [-8.22909164e+00  8.89383125e+00]\n",
      " [-1.09242601e+01  1.07459421e+01]\n",
      " [-9.65263748e+00  9.78782749e+00]\n",
      " [-1.07488785e+01  1.10526676e+01]\n",
      " [-1.02301674e+01  1.02139196e+01]\n",
      " [-1.18634987e+01  1.15496387e+01]\n",
      " [-8.61421967e+00  8.41058445e+00]\n",
      " [-9.32579517e+00  9.30244541e+00]\n",
      " [-6.86278725e+00  7.37420654e+00]\n",
      " [-1.12080345e+01  1.06564970e+01]\n",
      " [-1.14172564e+01  1.07910976e+01]\n",
      " [ 6.81829119e+00 -4.66856575e+00]\n",
      " [ 5.59457280e-02  1.55396259e+00]\n",
      " [ 1.03020945e+01 -6.66497850e+00]\n",
      " [ 1.71384573e+00 -4.17221576e-01]\n",
      " [ 1.15021429e+01 -7.49155807e+00]\n",
      " [ 1.33029633e+01 -8.59708214e+00]\n",
      " [-6.05904311e-02  1.13303792e+00]\n",
      " [ 7.58549166e+00 -5.42420673e+00]\n",
      " [ 7.28313589e+00 -5.18746901e+00]\n",
      " [-2.30557132e+00  3.32413077e+00]\n",
      " [-1.25349963e+00  3.44428110e+00]\n",
      " [-4.80148458e+00  5.66894960e+00]\n",
      " [ 1.16705704e+01 -7.98303795e+00]\n",
      " [ 9.12266254e+00 -6.12515116e+00]\n",
      " [-7.14362812e+00  7.49820423e+00]\n",
      " [-5.14400578e+00  5.87002134e+00]\n",
      " [ 1.10712605e+01 -7.36996126e+00]\n",
      " [ 1.21750851e+01 -8.29905510e+00]\n",
      " [ 8.33620453e+00 -4.58745813e+00]\n",
      " [-2.10169601e+00  3.72042203e+00]\n",
      " [ 9.76315975e+00 -6.25671864e+00]\n",
      " [ 1.41252937e+01 -9.45045662e+00]\n",
      " [-1.25791156e+00  2.15376616e+00]\n",
      " [ 2.28923297e+00  1.30405445e-02]\n",
      " [ 7.20839310e+00 -4.81801414e+00]\n",
      " [ 7.10300303e+00 -4.27690363e+00]\n",
      " [ 1.03029985e+01 -6.67288923e+00]\n",
      " [ 8.18777657e+00 -5.23055363e+00]\n",
      " [ 5.14142179e+00 -2.64221239e+00]\n",
      " [ 3.49568695e-01  1.59661150e+00]\n",
      " [ 2.61403394e+00 -2.51233391e-02]\n",
      " [ 8.60515308e+00 -5.98809767e+00]\n",
      " [ 1.02253942e+01 -6.80032063e+00]\n",
      " [ 7.93564844e+00 -5.55867815e+00]\n",
      " [ 1.40881319e+01 -9.31528568e+00]\n",
      " [ 1.34706564e+01 -8.73444366e+00]\n",
      " [-6.23033428e+00  6.77888775e+00]\n",
      " [ 1.89323354e+00 -1.41725791e+00]\n",
      " [ 1.13033428e+01 -7.21140242e+00]\n",
      " [ 9.04555142e-01  8.29337418e-01]\n",
      " [ 1.18249197e+01 -8.00477791e+00]\n",
      " [-1.03644168e+00  2.22869849e+00]\n",
      " [ 5.14495897e+00 -2.64832973e+00]\n",
      " [ 1.07419605e+01 -7.04173660e+00]\n",
      " [ 1.15907335e+01 -7.73534727e+00]\n",
      " [ 5.86957574e-01  1.23930871e+00]\n",
      " [ 1.36337948e+01 -9.41374397e+00]\n",
      " [ 7.32202005e+00 -5.12399769e+00]\n",
      " [ 8.33859539e+00 -5.68166018e+00]\n",
      " [ 1.37142687e+01 -9.38670921e+00]\n",
      " [-1.86479777e-01  1.16661632e+00]\n",
      " [ 4.90406132e+00 -3.04222703e+00]\n",
      " [ 1.37709932e+01 -8.98007965e+00]\n",
      " [ 2.99867225e+00 -1.30395508e+00]\n",
      " [ 1.10011015e+01 -7.10357141e+00]\n",
      " [ 1.25692749e+01 -8.12036228e+00]\n",
      " [ 1.19969864e+01 -7.73913860e+00]\n",
      " [ 8.08038330e+00 -5.35582781e+00]\n",
      " [ 1.35620909e+01 -8.66749859e+00]\n",
      " [ 1.29263630e+01 -8.28852558e+00]\n",
      " [ 5.00906420e+00 -2.56508827e+00]\n",
      " [ 2.35361576e+00 -6.22115672e-01]\n",
      " [ 9.92887115e+00 -5.80580664e+00]\n",
      " [ 1.27997246e+01 -8.92272472e+00]\n",
      " [ 1.24545250e+01 -8.56677246e+00]\n",
      " [ 1.26974583e+01 -8.20857525e+00]\n",
      " [ 1.25043974e+01 -8.60042095e+00]\n",
      " [ 1.30248423e+01 -9.06034184e+00]\n",
      " [ 9.50007725e+00 -6.28288746e+00]\n",
      " [ 1.32104759e+01 -9.18548965e+00]\n",
      " [ 4.42937374e+00 -2.09219909e+00]\n",
      " [ 1.80813694e+00 -1.11732888e+00]\n",
      " [ 6.54377127e+00 -3.89259219e+00]\n",
      " [ 5.13719130e+00 -2.96387005e+00]\n",
      " [ 3.31303787e+00 -1.56209052e+00]\n",
      " [ 1.35447490e+00  4.87479299e-01]\n",
      " [-6.43069565e-01  1.73746860e+00]\n",
      " [-1.45598602e+00  2.35887074e+00]\n",
      " [ 7.48560143e+00 -4.36600065e+00]\n",
      " [ 4.35878897e+00 -2.17234230e+00]\n",
      " [ 3.84219265e+00 -1.87715113e+00]\n",
      " [ 3.43534970e+00 -1.44213116e+00]\n",
      " [-3.14432263e+00  3.80114126e+00]\n",
      " [ 7.18370485e+00 -4.15914679e+00]\n",
      " [ 5.66635370e+00 -3.24316645e+00]\n",
      " [-4.72828579e+00  5.28706121e+00]\n",
      " [-4.14740515e+00  4.90366697e+00]\n",
      " [ 1.18358555e+01 -7.49686861e+00]\n",
      " [ 2.46637964e+00 -3.50591511e-01]\n",
      " [ 1.21624112e+00  3.41896921e-01]\n",
      " [ 5.59441566e+00 -3.36250806e+00]\n",
      " [ 8.56964684e+00 -4.41528749e+00]\n",
      " [ 9.23332214e+00 -5.31924152e+00]\n",
      " [ 1.08476467e+01 -7.70524597e+00]\n",
      " [ 1.04258075e-01  9.88743484e-01]\n",
      " [ 1.60818875e+00 -4.24110979e-01]\n",
      " [-1.62511122e+00  2.52480578e+00]\n",
      " [ 8.80775261e+00 -5.78745317e+00]\n",
      " [-4.95162630e+00  5.85480547e+00]\n",
      " [ 6.14229202e-01  5.13895988e-01]\n",
      " [ 2.67836952e+00 -6.27341151e-01]\n",
      " [ 6.93863440e+00 -4.52977800e+00]\n",
      " [ 3.06870397e-02  1.63503277e+00]\n",
      " [ 4.57436514e+00 -2.67904758e+00]\n",
      " [-4.78256531e-02  9.32363093e-01]\n",
      " [ 2.85471821e+00 -8.22875857e-01]\n",
      " [ 6.94935656e+00 -4.51555824e+00]\n",
      " [-5.17085850e-01  2.01910663e+00]\n",
      " [-4.40632999e-01  1.30589235e+00]\n",
      " [-2.36507177e+00  3.19624972e+00]\n",
      " [ 1.92507410e+00 -8.81893992e-01]\n",
      " [ 7.67590857e+00 -4.58662510e+00]\n",
      " [ 9.18205833e+00 -6.22424459e+00]\n",
      " [ 7.78665364e-01  6.85604453e-01]\n",
      " [-2.08681583e+00  2.82517982e+00]\n",
      " [-2.38180852e+00  3.14955091e+00]\n",
      " [-4.23152018e+00  5.00808096e+00]\n",
      " [-4.22930479e+00  5.26048374e+00]\n",
      " [ 5.15692043e+00 -2.94283819e+00]]\n"
     ]
    }
   ],
   "source": [
    "from sklearn.manifold import TSNE\n",
    "\n",
    "model = TSNE(n_components=2, random_state=0)\n",
    "result = model.fit_transform(two_mode_data)\n",
    "print (result)"
   ]
  },
  {
   "cell_type": "code",
   "execution_count": 24,
   "metadata": {
    "slideshow": {
     "slide_type": "subslide"
    }
   },
   "outputs": [],
   "source": [
    "from matplotlib.font_manager import FontProperties\n",
    "import matplotlib.pyplot as plt\n",
    "import numpy as np\n",
    "%matplotlib inline\n",
    "# Get current size\n",
    "fig_size = plt.rcParams[\"figure.figsize\"]\n",
    "# Set figure width to 12 and height to 9\n",
    "fig_size[0] = 8.0\n",
    "fig_size[1] = 6\n",
    ".0\n",
    "plt.rcParams[\"figure.figsize\"] = fig_size"
   ]
  },
  {
   "cell_type": "code",
   "execution_count": 25,
   "metadata": {
    "scrolled": true,
    "slideshow": {
     "slide_type": "subslide"
    }
   },
   "outputs": [
    {
     "data": {
      "image/png": "[encoded data removed]",
      "text/plain": [
       "<matplotlib.figure.Figure at 0x1d56cc206a0>"
      ]
     },
     "metadata": {},
     "output_type": "display_data"
    }
   ],
   "source": [
    "result_0 = np.array([result[i] for i in range(len(dbscan_labels)) if dbscan_labels[i] == 0])\n",
    "result_1 = np.array([result[i] for i in range(len(dbscan_labels)) if dbscan_labels[i] == 1])\n",
    "result_2 = np.array([result[i] for i in range(len(dbscan_labels)) if dbscan_labels[i] == 2])\n",
    "result_3 = np.array([result[i] for i in range(len(dbscan_labels)) if dbscan_labels[i] == 3])\n",
    "outlier = np.array([result[i] for i in range(len(dbscan_labels)) if dbscan_labels[i] == -1])\n",
    "\n",
    "\n",
    "plt.scatter(result_0[:,0], result_0[:,1], c='y', linewidths=0.5, s=5)\n",
    "plt.scatter(result_1[:,0], result_1[:,1], c='g', linewidths=0.5, s=5)\n",
    "plt.scatter(result_2[:,0], result_2[:,1], c='b', linewidths=0.5, s=5)\n",
    "plt.scatter(result_3[:,0], result_3[:,1], c='m', linewidths=0.5, s=5)\n",
    "plt.scatter(outlier[:,0], outlier[:,1], c='r', linewidths=0.5, s=10)\n",
    "flg_gmm = plt"
   ]
  }
 ],
 "metadata": {
  "celltoolbar": "Slideshow",
  "kernelspec": {
   "display_name": "Python 3",
   "language": "python",
   "name": "python3"
  },
  "language_info": {
   "codemirror_mode": {
    "name": "ipython",
    "version": 3
   },
   "file_extension": ".py",
   "mimetype": "text/x-python",
   "name": "python",
   "nbconvert_exporter": "python",
   "pygments_lexer": "ipython3",
   "version": "3.6.4"
  }
 },
 "nbformat": 4,
 "nbformat_minor": 1
}
